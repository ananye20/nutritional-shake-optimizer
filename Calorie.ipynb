{
  "nbformat": 4,
  "nbformat_minor": 0,
  "metadata": {
    "colab": {
      "provenance": []
    },
    "kernelspec": {
      "name": "python3",
      "display_name": "Python 3"
    },
    "language_info": {
      "name": "python"
    }
  },
  "cells": [
    {
      "cell_type": "code",
      "execution_count": 1,
      "metadata": {
        "id": "slZJVBDD3nmE"
      },
      "outputs": [],
      "source": [
        "%%capture\n",
        "!pip install -q pyomo\n",
        "!apt-get install -y -qq glpk-utils"
      ]
    },
    {
      "cell_type": "code",
      "source": [
        "from pyomo.environ import *"
      ],
      "metadata": {
        "id": "g5olDj8Y3rp6"
      },
      "execution_count": 2,
      "outputs": []
    },
    {
      "cell_type": "code",
      "source": [
        "#Model\n",
        "\n",
        "model= ConcreteModel()\n",
        "\n",
        "#Decision Variables\n",
        "\n",
        "model.S= Var(domain=NonNegativeReals)\n",
        "model.C= Var(domain=NonNegativeReals)\n",
        "model.V= Var(domain=NonNegativeReals)\n",
        "model.A= Var(domain=NonNegativeReals)\n",
        "model.T= Var(domain=NonNegativeReals)\n",
        "\n",
        "#Objective Function\n",
        "\n",
        "model.profit= Objective(expr= 10*model.S+8*model.C+25*model.V+15*model.A+6*model.T, sense=minimize)\n",
        "\n",
        "#Constraints\n",
        "model.c1= Constraint(expr= 50*model.S+100*model.C+120*model.A+80*model.T>=380)\n",
        "model.c2= Constraint(expr= 50*model.S+100*model.C+120*model.A+80*model.T<=420)\n",
        "model.c3= Constraint(expr= 10*(model.S+ 75*model.C+ 30*model.T) <= 2*(50*model.S+100*model.C+120*model.A+80*model.T))\n",
        "model.c4= Constraint(expr= 20*model.S + 50*model.V+ 2*model.T>=50)\n",
        "model.c5 = Constraint(expr= model.S >= 2*model.A)\n",
        "model.c6= Constraint(expr= 3*model.S+ 8*model.C+model.V + 2*model.A+25*model.T==15)\n",
        "\n",
        "#Solver\n",
        "results= SolverFactory('glpk').solve(model)\n",
        "results.write()\n",
        "model.pprint()\n",
        "\n",
        "print(\"\\nProfit Max=\", model.profit())\n",
        "print('\\nS=', model.S())\n",
        "print('\\nC=', model.C())\n",
        "print('\\nV=', model.V())\n",
        "print('\\nA=', model.A())\n",
        "print('\\nT=', model.T())"
      ],
      "metadata": {
        "colab": {
          "base_uri": "https://localhost:8080/"
        },
        "id": "WQnqB00E327v",
        "outputId": "1ac3bbbf-a28c-45ee-fa60-55533120c458"
      },
      "execution_count": 3,
      "outputs": [
        {
          "output_type": "stream",
          "name": "stdout",
          "text": [
            "# ==========================================================\n",
            "# = Solver Results                                         =\n",
            "# ==========================================================\n",
            "# ----------------------------------------------------------\n",
            "#   Problem Information\n",
            "# ----------------------------------------------------------\n",
            "Problem: \n",
            "- Name: unknown\n",
            "  Lower bound: 58.3125\n",
            "  Upper bound: 58.3125\n",
            "  Number of objectives: 1\n",
            "  Number of constraints: 6\n",
            "  Number of variables: 5\n",
            "  Number of nonzeros: 22\n",
            "  Sense: minimize\n",
            "# ----------------------------------------------------------\n",
            "#   Solver Information\n",
            "# ----------------------------------------------------------\n",
            "Solver: \n",
            "- Status: ok\n",
            "  Termination condition: optimal\n",
            "  Statistics: \n",
            "    Branch and bound: \n",
            "      Number of bounded subproblems: 0\n",
            "      Number of created subproblems: 0\n",
            "  Error rc: 0\n",
            "  Time: 0.0044705867767333984\n",
            "# ----------------------------------------------------------\n",
            "#   Solution Information\n",
            "# ----------------------------------------------------------\n",
            "Solution: \n",
            "- number of solutions: 0\n",
            "  number of solutions displayed: 0\n",
            "5 Var Declarations\n",
            "    A : Size=1, Index=None\n",
            "        Key  : Lower : Value            : Upper : Fixed : Stale : Domain\n",
            "        None :     0 : 1.60416666666667 :  None : False : False : NonNegativeReals\n",
            "    C : Size=1, Index=None\n",
            "        Key  : Lower : Value             : Upper : Fixed : Stale : Domain\n",
            "        None :     0 : 0.270833333333334 :  None : False : False : NonNegativeReals\n",
            "    S : Size=1, Index=None\n",
            "        Key  : Lower : Value            : Upper : Fixed : Stale : Domain\n",
            "        None :     0 : 3.20833333333333 :  None : False : False : NonNegativeReals\n",
            "    T : Size=1, Index=None\n",
            "        Key  : Lower : Value : Upper : Fixed : Stale : Domain\n",
            "        None :     0 :   0.0 :  None : False : False : NonNegativeReals\n",
            "    V : Size=1, Index=None\n",
            "        Key  : Lower : Value : Upper : Fixed : Stale : Domain\n",
            "        None :     0 :   0.0 :  None : False : False : NonNegativeReals\n",
            "\n",
            "1 Objective Declarations\n",
            "    profit : Size=1, Index=None, Active=True\n",
            "        Key  : Active : Sense    : Expression\n",
            "        None :   True : minimize : 10*S + 8*C + 25*V + 15*A + 6*T\n",
            "\n",
            "6 Constraint Declarations\n",
            "    c1 : Size=1, Index=None, Active=True\n",
            "        Key  : Lower : Body                        : Upper : Active\n",
            "        None : 380.0 : 50*S + 100*C + 120*A + 80*T :  +Inf :   True\n",
            "    c2 : Size=1, Index=None, Active=True\n",
            "        Key  : Lower : Body                        : Upper : Active\n",
            "        None :  -Inf : 50*S + 100*C + 120*A + 80*T : 420.0 :   True\n",
            "    c3 : Size=1, Index=None, Active=True\n",
            "        Key  : Lower : Body                                                   : Upper : Active\n",
            "        None :  -Inf : 10*(S + 75*C + 30*T) - 2*(50*S + 100*C + 120*A + 80*T) :   0.0 :   True\n",
            "    c4 : Size=1, Index=None, Active=True\n",
            "        Key  : Lower : Body              : Upper : Active\n",
            "        None :  50.0 : 20*S + 50*V + 2*T :  +Inf :   True\n",
            "    c5 : Size=1, Index=None, Active=True\n",
            "        Key  : Lower : Body    : Upper : Active\n",
            "        None :  -Inf : 2*A - S :   0.0 :   True\n",
            "    c6 : Size=1, Index=None, Active=True\n",
            "        Key  : Lower : Body                       : Upper : Active\n",
            "        None :  15.0 : 3*S + 8*C + V + 2*A + 25*T :  15.0 :   True\n",
            "\n",
            "12 Declarations: S C V A T profit c1 c2 c3 c4 c5 c6\n",
            "\n",
            "Profit Max= 58.31250000000002\n",
            "\n",
            "S= 3.20833333333333\n",
            "\n",
            "C= 0.270833333333334\n",
            "\n",
            "V= 0.0\n",
            "\n",
            "A= 1.60416666666667\n",
            "\n",
            "T= 0.0\n"
          ]
        }
      ]
    },
    {
      "cell_type": "code",
      "source": [],
      "metadata": {
        "id": "CAcNP7Tg35my"
      },
      "execution_count": null,
      "outputs": []
    }
  ]
}